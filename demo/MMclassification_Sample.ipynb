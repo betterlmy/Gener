{
 "cells": [
  {
   "attachments": {},
   "cell_type": "markdown",
   "metadata": {},
   "source": [
    "下载样例图片"
   ]
  },
  {
   "cell_type": "code",
   "execution_count": null,
   "metadata": {},
   "outputs": [],
   "source": [
    "!wget https://github.com/open-mmlab/mmclassification/raw/master/demo/demo.JPEG"
   ]
  },
  {
   "attachments": {},
   "cell_type": "markdown",
   "metadata": {},
   "source": [
    "MMclassification为图像推理提供的高级API:\n",
    "* `get_model`:根据名称获取一个模型\n",
    "* `init_model`:根据配置文件和权重文件初始化一个模型\n",
    "* `inference_model`:使用模型进行推理"
   ]
  },
  {
   "cell_type": "code",
   "execution_count": 1,
   "metadata": {},
   "outputs": [
    {
     "name": "stdout",
     "output_type": "stream",
     "text": [
      "02/15 18:02:25 - mmengine - \u001b[5m\u001b[4m\u001b[33mWARNING\u001b[0m - The \"model\" registry in mmcls did not set import location. Fallback to call `mmcls.utils.register_all_modules` instead.\n",
      "Loads checkpoint by http backend from path: https://download.openmmlab.com/mmclassification/v0/resnet/resnet50_8xb32_in1k_20210831-ea4938fc.pth\n"
     ]
    },
    {
     "name": "stderr",
     "output_type": "stream",
     "text": [
      "Downloading: \"https://download.openmmlab.com/mmclassification/v0/resnet/resnet50_8xb32_in1k_20210831-ea4938fc.pth\" to /Users/zane/.cache/torch/hub/checkpoints/resnet50_8xb32_in1k_20210831-ea4938fc.pth\n"
     ]
    },
    {
     "name": "stdout",
     "output_type": "stream",
     "text": [
      "02/15 18:02:30 - mmengine - \u001b[5m\u001b[4m\u001b[33mWARNING\u001b[0m - The \"transform\" registry in mmcls did not set import location. Fallback to call `mmcls.utils.register_all_modules` instead.\n"
     ]
    }
   ],
   "source": [
    "from mmcls import get_model, inference_model\n",
    "img_path = \"demo.JPEG\"\n",
    "\n",
    "# 模型构建\n",
    "model = get_model(\"resnet50_8xb32_in1k\",pretrained=True,device=\"cpu\")\n",
    "result = inference_model(model, img_path)"
   ]
  },
  {
   "cell_type": "code",
   "execution_count": 6,
   "metadata": {},
   "outputs": [
    {
     "name": "stdout",
     "output_type": "stream",
     "text": [
      "1.0000006210315815\n"
     ]
    }
   ],
   "source": [
    "len(result['pred_scores'])\n",
    "i = 0\n",
    "for score in result['pred_scores']:\n",
    "    i+= score\n",
    "\n",
    "print(i)"
   ]
  },
  {
   "cell_type": "code",
   "execution_count": null,
   "metadata": {},
   "outputs": [],
   "source": []
  }
 ],
 "metadata": {
  "kernelspec": {
   "display_name": "torch",
   "language": "python",
   "name": "python3"
  },
  "language_info": {
   "codemirror_mode": {
    "name": "ipython",
    "version": 3
   },
   "file_extension": ".py",
   "mimetype": "text/x-python",
   "name": "python",
   "nbconvert_exporter": "python",
   "pygments_lexer": "ipython3",
   "version": "3.10.9"
  },
  "orig_nbformat": 4,
  "vscode": {
   "interpreter": {
    "hash": "d8bc75a386d56b6551c17e1904f8529f6445721752a10015ef716c860769d0c0"
   }
  }
 },
 "nbformat": 4,
 "nbformat_minor": 2
}
